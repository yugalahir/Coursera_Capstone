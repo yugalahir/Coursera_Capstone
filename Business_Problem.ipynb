{
 "cells": [
  {
   "cell_type": "markdown",
   "metadata": {},
   "source": [
    "## Introduction"
   ]
  },
  {
   "cell_type": "markdown",
   "metadata": {},
   "source": [
    "Car accidents can occur all the time, however there are some conditions were the probabilities of have an accident arise due multiple variables.\n",
    "\n",
    "This report has as purpose develop a model for Seattle government to predict the probabilities of have a car accident and severity, based on different conditions as weather or road conditions.\n",
    "\n",
    "The information was provided by Seattle Police Department from 2004 to 2020."
   ]
  },
  {
   "cell_type": "markdown",
   "metadata": {},
   "source": [
    "##  Business Problem"
   ]
  },
  {
   "cell_type": "markdown",
   "metadata": {},
   "source": [
    "In an effort to reduce the frequency of car collisions in a community, an algorithim must be developed to predict the severity of an accident given the current weather, \n",
    "road and visibility conditions. When conditions are bad, this model will alert drivers to remind them to be more careful.\n",
    "Identify the conditions that can cause future car accidents in order to alarm the people with anticipation to be aware and drive more carefully.\n",
    "\n",
    "The avoid of accidents will result in multiples benefits:\n",
    "\n",
    "    Save lives as main benefit\n",
    "    Reduce costs in damage infrastructure\n",
    "    Reduce cost from police and paramedics to attend each accident"
   ]
  }
 ],
 "metadata": {
  "kernelspec": {
   "display_name": "Python 3",
   "language": "python",
   "name": "python3"
  },
  "language_info": {
   "codemirror_mode": {
    "name": "ipython",
    "version": 3
   },
   "file_extension": ".py",
   "mimetype": "text/x-python",
   "name": "python",
   "nbconvert_exporter": "python",
   "pygments_lexer": "ipython3",
   "version": "3.7.7"
  }
 },
 "nbformat": 4,
 "nbformat_minor": 4
}
